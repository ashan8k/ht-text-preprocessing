{
 "cells": [
  {
   "cell_type": "code",
   "execution_count": 11,
   "metadata": {},
   "outputs": [],
   "source": [
    "from htrc_features import FeatureReader\n",
    "from htrc_features import utils\n",
    "import pandas as pd\n",
    "import glob"
   ]
  },
  {
   "cell_type": "code",
   "execution_count": null,
   "metadata": {},
   "outputs": [],
   "source": [
    "df_1924 = pd.read_csv('/Users/rdubnic2/Desktop/1924-collection.txt', sep=\"\\t\")\n",
    "\n",
    "df_1924.head()"
   ]
  },
  {
   "cell_type": "code",
   "execution_count": null,
   "metadata": {},
   "outputs": [],
   "source": [
    "with open('1924-collection-ids.txt', 'w', newline='\\n') as f:\n",
    "    for i,r in df_1924.iterrows():\n",
    "#         print(i)\n",
    "        htid = r[0]\n",
    "    \n",
    "        f.write(htid+'\\n')"
   ]
  },
  {
   "cell_type": "code",
   "execution_count": null,
   "metadata": {},
   "outputs": [],
   "source": [
    "htid_l = []\n",
    "\n",
    "with open('1924-collection-ids.txt', 'r', newline='\\n') as g:\n",
    "    htid_l = g.read().splitlines()"
   ]
  },
  {
   "cell_type": "code",
   "execution_count": null,
   "metadata": {},
   "outputs": [],
   "source": [
    "with open('1924-collection-rsync-paths.txt', 'w', newline='\\n') as h:\n",
    "    for i in htid_l:\n",
    "        path = utils.id_to_rsync(i)\n",
    "        h.write(path+'\\n')"
   ]
  },
  {
   "cell_type": "code",
   "execution_count": 9,
   "metadata": {},
   "outputs": [
    {
     "name": "stdout",
     "output_type": "stream",
     "text": [
      "[queenpalm] Welcome to the HathiTrust Research Center rsync server.\n",
      "\n",
      "receiving file list ... done\n",
      "mdp.49015002541002.json.bz2\n",
      "\n",
      "sent 38 bytes  received 59632 bytes  119340.00 bytes/sec\n",
      "total size is 59460  speedup is 1.00\n"
     ]
    }
   ],
   "source": [
    "# !rsync -av --files-from 1924-collection-rsync-paths.txt queenpalm.ischool.illinois.edu::features-2020.03/ .\n",
    "        \n",
    "!rsync -av queenpalm.ischool.illinois.edu::features-2020.03/mdp/41040/mdp.49015002541002.json.bz2 .        "
   ]
  },
  {
   "cell_type": "code",
   "execution_count": 35,
   "metadata": {},
   "outputs": [
    {
     "data": {
      "text/plain": [
       "['mdp/41040jnz/mdp.49015002541002,json,bz2.json.bz2',\n",
       " 'pur1/35786jnz/pur1.32754076789167,json,bz2.json.bz2']"
      ]
     },
     "execution_count": 35,
     "metadata": {},
     "output_type": "execute_result"
    }
   ],
   "source": [
    "vol_file_paths = glob.glob('*.bz2') \n",
    "vol_file_paths\n",
    "\n",
    "vol_rsync_paths = []\n",
    "\n",
    "for v in vol_file_paths:\n",
    "    v= str(v)\n",
    "    vol_rsync_paths.append(utils.id_to_rsync(v))\n",
    "\n",
    "vol_rsync_paths"
   ]
  },
  {
   "cell_type": "code",
   "execution_count": 13,
   "metadata": {},
   "outputs": [
    {
     "data": {
      "text/plain": [
       "['mdp.49015002541002.json.bz2', 'pur1.32754076789167.json.bz2']"
      ]
     },
     "execution_count": 13,
     "metadata": {},
     "output_type": "execute_result"
    }
   ],
   "source": [
    "vol_file_paths = glob.glob('*.bz2') \n",
    "vol_file_paths"
   ]
  },
  {
   "cell_type": "code",
   "execution_count": 14,
   "metadata": {},
   "outputs": [
    {
     "name": "stdout",
     "output_type": "stream",
     "text": [
      "None\n",
      "['mdp.49015002541002.json.bz2', 'pur1.32754076789167.json.bz2']\n"
     ]
    }
   ],
   "source": [
    "d_fr = FeatureReader(file_paths)"
   ]
  },
  {
   "cell_type": "code",
   "execution_count": null,
   "metadata": {},
   "outputs": [],
   "source": []
  },
  {
   "cell_type": "code",
   "execution_count": 28,
   "metadata": {},
   "outputs": [],
   "source": []
  },
  {
   "cell_type": "code",
   "execution_count": 17,
   "metadata": {},
   "outputs": [],
   "source": []
  },
  {
   "cell_type": "code",
   "execution_count": null,
   "metadata": {},
   "outputs": [],
   "source": []
  },
  {
   "cell_type": "code",
   "execution_count": null,
   "metadata": {},
   "outputs": [],
   "source": []
  }
 ],
 "metadata": {
  "kernelspec": {
   "display_name": "Python 3",
   "language": "python",
   "name": "python3"
  },
  "language_info": {
   "codemirror_mode": {
    "name": "ipython",
    "version": 3
   },
   "file_extension": ".py",
   "mimetype": "text/x-python",
   "name": "python",
   "nbconvert_exporter": "python",
   "pygments_lexer": "ipython3",
   "version": "3.7.3"
  }
 },
 "nbformat": 4,
 "nbformat_minor": 2
}
